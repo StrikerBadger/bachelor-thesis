{
 "cells": [
  {
   "cell_type": "code",
   "execution_count": 1,
   "metadata": {},
   "outputs": [],
   "source": [
    "import numpy as np\n",
    "import pandas as pd\n",
    "import matplotlib.pyplot as plt\n",
    "import algorithms\n",
    "import os\n",
    "from tqdm import tqdm"
   ]
  },
  {
   "cell_type": "code",
   "execution_count": 2,
   "metadata": {},
   "outputs": [
    {
     "data": {
      "text/html": [
       "<div>\n",
       "<style scoped>\n",
       "    .dataframe tbody tr th:only-of-type {\n",
       "        vertical-align: middle;\n",
       "    }\n",
       "\n",
       "    .dataframe tbody tr th {\n",
       "        vertical-align: top;\n",
       "    }\n",
       "\n",
       "    .dataframe thead th {\n",
       "        text-align: right;\n",
       "    }\n",
       "</style>\n",
       "<table border=\"1\" class=\"dataframe\">\n",
       "  <thead>\n",
       "    <tr style=\"text-align: right;\">\n",
       "      <th></th>\n",
       "      <th>id</th>\n",
       "      <th>index</th>\n",
       "      <th>period</th>\n",
       "      <th>timestamp</th>\n",
       "      <th>minute</th>\n",
       "      <th>second</th>\n",
       "      <th>type</th>\n",
       "      <th>possession</th>\n",
       "      <th>possession_team</th>\n",
       "      <th>play_pattern</th>\n",
       "      <th>...</th>\n",
       "      <th>shot_aerial_won</th>\n",
       "      <th>shot_deflected</th>\n",
       "      <th>shot_one_on_one</th>\n",
       "      <th>shot_open_goal</th>\n",
       "      <th>out</th>\n",
       "      <th>shot_saved_off_target</th>\n",
       "      <th>shot_redirect</th>\n",
       "      <th>shot_follows_dribble</th>\n",
       "      <th>shot_saved_to_post</th>\n",
       "      <th>off_camera</th>\n",
       "    </tr>\n",
       "  </thead>\n",
       "  <tbody>\n",
       "    <tr>\n",
       "      <th>0</th>\n",
       "      <td>bd2f3cbe-d7d8-4a7e-a01a-44d41e8ef888</td>\n",
       "      <td>272</td>\n",
       "      <td>1</td>\n",
       "      <td>00:05:28.851</td>\n",
       "      <td>5</td>\n",
       "      <td>28</td>\n",
       "      <td>Shot</td>\n",
       "      <td>13</td>\n",
       "      <td>Lorient</td>\n",
       "      <td>Regular Play</td>\n",
       "      <td>...</td>\n",
       "      <td>NaN</td>\n",
       "      <td>NaN</td>\n",
       "      <td>NaN</td>\n",
       "      <td>NaN</td>\n",
       "      <td>NaN</td>\n",
       "      <td>NaN</td>\n",
       "      <td>NaN</td>\n",
       "      <td>NaN</td>\n",
       "      <td>NaN</td>\n",
       "      <td>NaN</td>\n",
       "    </tr>\n",
       "    <tr>\n",
       "      <th>1</th>\n",
       "      <td>2a229476-cb32-47ad-8f70-28a252fe5fd8</td>\n",
       "      <td>392</td>\n",
       "      <td>1</td>\n",
       "      <td>00:07:31.125</td>\n",
       "      <td>7</td>\n",
       "      <td>31</td>\n",
       "      <td>Shot</td>\n",
       "      <td>18</td>\n",
       "      <td>Lorient</td>\n",
       "      <td>From Throw In</td>\n",
       "      <td>...</td>\n",
       "      <td>NaN</td>\n",
       "      <td>NaN</td>\n",
       "      <td>NaN</td>\n",
       "      <td>NaN</td>\n",
       "      <td>NaN</td>\n",
       "      <td>NaN</td>\n",
       "      <td>NaN</td>\n",
       "      <td>NaN</td>\n",
       "      <td>NaN</td>\n",
       "      <td>NaN</td>\n",
       "    </tr>\n",
       "    <tr>\n",
       "      <th>2</th>\n",
       "      <td>ade34ebd-5819-4e42-a97d-2dcc75600e1f</td>\n",
       "      <td>663</td>\n",
       "      <td>1</td>\n",
       "      <td>00:13:03.329</td>\n",
       "      <td>13</td>\n",
       "      <td>3</td>\n",
       "      <td>Shot</td>\n",
       "      <td>33</td>\n",
       "      <td>Lorient</td>\n",
       "      <td>From Throw In</td>\n",
       "      <td>...</td>\n",
       "      <td>True</td>\n",
       "      <td>NaN</td>\n",
       "      <td>NaN</td>\n",
       "      <td>NaN</td>\n",
       "      <td>NaN</td>\n",
       "      <td>NaN</td>\n",
       "      <td>NaN</td>\n",
       "      <td>NaN</td>\n",
       "      <td>NaN</td>\n",
       "      <td>NaN</td>\n",
       "    </tr>\n",
       "    <tr>\n",
       "      <th>3</th>\n",
       "      <td>51abe4d1-9329-41f9-bf34-e897afbb8c8e</td>\n",
       "      <td>943</td>\n",
       "      <td>1</td>\n",
       "      <td>00:20:28.418</td>\n",
       "      <td>20</td>\n",
       "      <td>28</td>\n",
       "      <td>Shot</td>\n",
       "      <td>46</td>\n",
       "      <td>Marseille</td>\n",
       "      <td>From Corner</td>\n",
       "      <td>...</td>\n",
       "      <td>NaN</td>\n",
       "      <td>NaN</td>\n",
       "      <td>NaN</td>\n",
       "      <td>NaN</td>\n",
       "      <td>NaN</td>\n",
       "      <td>NaN</td>\n",
       "      <td>NaN</td>\n",
       "      <td>NaN</td>\n",
       "      <td>NaN</td>\n",
       "      <td>NaN</td>\n",
       "    </tr>\n",
       "    <tr>\n",
       "      <th>4</th>\n",
       "      <td>b2f38f8b-1710-4cb2-8200-a359a2226a3f</td>\n",
       "      <td>989</td>\n",
       "      <td>1</td>\n",
       "      <td>00:21:42.359</td>\n",
       "      <td>21</td>\n",
       "      <td>42</td>\n",
       "      <td>Shot</td>\n",
       "      <td>52</td>\n",
       "      <td>Marseille</td>\n",
       "      <td>From Throw In</td>\n",
       "      <td>...</td>\n",
       "      <td>NaN</td>\n",
       "      <td>NaN</td>\n",
       "      <td>NaN</td>\n",
       "      <td>NaN</td>\n",
       "      <td>NaN</td>\n",
       "      <td>NaN</td>\n",
       "      <td>NaN</td>\n",
       "      <td>NaN</td>\n",
       "      <td>NaN</td>\n",
       "      <td>NaN</td>\n",
       "    </tr>\n",
       "  </tbody>\n",
       "</table>\n",
       "<p>5 rows × 40 columns</p>\n",
       "</div>"
      ],
      "text/plain": [
       "                                     id  index  period     timestamp  minute  \\\n",
       "0  bd2f3cbe-d7d8-4a7e-a01a-44d41e8ef888    272       1  00:05:28.851       5   \n",
       "1  2a229476-cb32-47ad-8f70-28a252fe5fd8    392       1  00:07:31.125       7   \n",
       "2  ade34ebd-5819-4e42-a97d-2dcc75600e1f    663       1  00:13:03.329      13   \n",
       "3  51abe4d1-9329-41f9-bf34-e897afbb8c8e    943       1  00:20:28.418      20   \n",
       "4  b2f38f8b-1710-4cb2-8200-a359a2226a3f    989       1  00:21:42.359      21   \n",
       "\n",
       "   second  type  possession possession_team   play_pattern  ...  \\\n",
       "0      28  Shot          13         Lorient   Regular Play  ...   \n",
       "1      31  Shot          18         Lorient  From Throw In  ...   \n",
       "2       3  Shot          33         Lorient  From Throw In  ...   \n",
       "3      28  Shot          46       Marseille    From Corner  ...   \n",
       "4      42  Shot          52       Marseille  From Throw In  ...   \n",
       "\n",
       "  shot_aerial_won shot_deflected shot_one_on_one shot_open_goal  out  \\\n",
       "0             NaN            NaN             NaN            NaN  NaN   \n",
       "1             NaN            NaN             NaN            NaN  NaN   \n",
       "2            True            NaN             NaN            NaN  NaN   \n",
       "3             NaN            NaN             NaN            NaN  NaN   \n",
       "4             NaN            NaN             NaN            NaN  NaN   \n",
       "\n",
       "  shot_saved_off_target shot_redirect  shot_follows_dribble  \\\n",
       "0                   NaN           NaN                   NaN   \n",
       "1                   NaN           NaN                   NaN   \n",
       "2                   NaN           NaN                   NaN   \n",
       "3                   NaN           NaN                   NaN   \n",
       "4                   NaN           NaN                   NaN   \n",
       "\n",
       "   shot_saved_to_post off_camera  \n",
       "0                 NaN        NaN  \n",
       "1                 NaN        NaN  \n",
       "2                 NaN        NaN  \n",
       "3                 NaN        NaN  \n",
       "4                 NaN        NaN  \n",
       "\n",
       "[5 rows x 40 columns]"
      ]
     },
     "execution_count": 2,
     "metadata": {},
     "output_type": "execute_result"
    }
   ],
   "source": [
    "# Get all the relevant matches\n",
    "matches = []\n",
    "for file in os.listdir(os.fsencode('dataset/intersection/statsbomb_matches_shots/')):\n",
    "    filename = os.fsdecode(file)\n",
    "    if 'shots' in filename and 'La Liga' not in filename:\n",
    "        matches.append(pd.read_csv('dataset/intersection/statsbomb_matches_shots/' + filename))\n",
    "matches = pd.concat(matches)\n",
    "matches.head()"
   ]
  },
  {
   "cell_type": "code",
   "execution_count": 3,
   "metadata": {},
   "outputs": [
    {
     "data": {
      "text/plain": [
       "Index(['id', 'index', 'period', 'timestamp', 'minute', 'second', 'type',\n",
       "       'possession', 'possession_team', 'play_pattern', 'team', 'player',\n",
       "       'position', 'location', 'duration', 'under_pressure', 'related_events',\n",
       "       'match_id', 'shot_statsbomb_xg', 'shot_end_location',\n",
       "       'shot_key_pass_id', 'shot_first_time', 'shot_technique',\n",
       "       'shot_body_part', 'shot_type', 'shot_outcome', 'shot_freeze_frame',\n",
       "       'possession_team_id', 'team_id', 'player_id', 'shot_aerial_won',\n",
       "       'shot_deflected', 'shot_one_on_one', 'shot_open_goal', 'out',\n",
       "       'shot_saved_off_target', 'shot_redirect', 'shot_follows_dribble',\n",
       "       'shot_saved_to_post', 'off_camera'],\n",
       "      dtype='object')"
      ]
     },
     "execution_count": 3,
     "metadata": {},
     "output_type": "execute_result"
    }
   ],
   "source": [
    "matches.columns"
   ]
  },
  {
   "cell_type": "code",
   "execution_count": 4,
   "metadata": {},
   "outputs": [
    {
     "name": "stderr",
     "output_type": "stream",
     "text": [
      "100%|██████████| 1443/1443 [02:47<00:00,  8.61it/s]\n"
     ]
    }
   ],
   "source": [
    "# Sort the matches by number of shots\n",
    "for match_id in matches['match_id'].unique():\n",
    "    amount_of_shots = len(matches[matches['match_id'] == match_id])\n",
    "    matches.loc[matches['match_id'] == match_id, 'amount_of_shots'] = amount_of_shots\n",
    "matches.sort_values(by='amount_of_shots', inplace=True)\n",
    "# Get the maximum amount of shots\n",
    "max_amount_of_shots = matches['amount_of_shots'].iloc[-1]\n",
    "# Iterate from 1 to max max_amount_of_shots and get the execution times\n",
    "execution_times_dp = []\n",
    "execution_times_fft = []\n",
    "execution_times_simulation = []\n",
    "execution_times_optimized_dp = []\n",
    "all_shotcounts = []\n",
    "shotcount = 0\n",
    "for match_id in tqdm(matches['match_id'].unique()):\n",
    "    shotcount = 1 if shotcount > max_amount_of_shots else shotcount \n",
    "    # Get the match\n",
    "    match = matches[matches['match_id'] == match_id]\n",
    "    xgs = match['shot_statsbomb_xg'].sample(n=shotcount, replace=True)\n",
    "    # Get the execution times\n",
    "    poibin = algorithms.PoiBinCalculator(list(xgs))\n",
    "    _, execution_time_dp = poibin.dp_poibin_pdf()\n",
    "    _, execution_time_fft = poibin.fft_poibin_pdf()\n",
    "    _, execution_time_simulation = poibin.sim_poibin_pdf()\n",
    "    _, execution_time_optimized_dp = poibin.optimized_dp_poibin_pdf()\n",
    "    all_shotcounts.append(shotcount)\n",
    "    execution_times_dp.append(execution_time_dp)\n",
    "    execution_times_fft.append(execution_time_fft)\n",
    "    execution_times_simulation.append(execution_time_simulation)\n",
    "    execution_times_optimized_dp.append(execution_time_optimized_dp)\n",
    "    shotcount += 1"
   ]
  },
  {
   "cell_type": "code",
   "execution_count": 8,
   "metadata": {},
   "outputs": [
    {
     "data": {
      "text/plain": [
       "<Figure size 640x480 with 0 Axes>"
      ]
     },
     "metadata": {},
     "output_type": "display_data"
    }
   ],
   "source": [
    "plt.scatter(all_shotcounts, execution_times_dp)\n",
    "plt.title('Execution times for the DP algortihm')\n",
    "plt.xlabel('Amount of shots')\n",
    "plt.ylabel('Process time (ms)')\n",
    "plt.savefig('graphs/2_execution_times_dp.png')\n",
    "plt.clf()\n",
    "plt.scatter(all_shotcounts, execution_times_fft)\n",
    "plt.title('Execution times for the FFT algortihm')\n",
    "plt.xlabel('Amount of shots')\n",
    "plt.ylabel('Process time (ms)')\n",
    "plt.savefig('graphs/2_execution_times_fft.png')\n",
    "plt.clf()\n",
    "plt.scatter(all_shotcounts, execution_times_simulation)\n",
    "plt.title('Execution times for the simulation algortihm\\n10000 samples')\n",
    "plt.xlabel('Amount of shots')\n",
    "plt.ylabel('Process time (ms)')\n",
    "plt.savefig('graphs/2_execution_times_simulation.png')\n",
    "plt.clf()\n",
    "plt.scatter(all_shotcounts, execution_times_optimized_dp)\n",
    "plt.title('Execution times for the optimized DP algortihm')\n",
    "plt.xlabel('Amount of shots')\n",
    "plt.ylabel('Process time (ms)')\n",
    "plt.savefig('graphs/2_execution_times_optimized_dp.png')\n",
    "plt.clf()"
   ]
  },
  {
   "cell_type": "code",
   "execution_count": 6,
   "metadata": {},
   "outputs": [
    {
     "data": {
      "text/plain": [
       "<Figure size 640x480 with 0 Axes>"
      ]
     },
     "metadata": {},
     "output_type": "display_data"
    }
   ],
   "source": [
    "import math\n",
    "shots_per_match = matches.groupby('match_id').count()['id']\n",
    "plt.hist(shots_per_match, bins=math.ceil(math.sqrt(len(shots_per_match))))\n",
    "plt.title('Distribution of shots per match')\n",
    "plt.xlabel('Amount of shots')\n",
    "plt.ylabel('Amount of matches')\n",
    "plt.savefig('graphs/shots_per_match.png')\n",
    "plt.clf()"
   ]
  },
  {
   "cell_type": "code",
   "execution_count": 9,
   "metadata": {},
   "outputs": [
    {
     "name": "stdout",
     "output_type": "stream",
     "text": [
      "Average execution time DP: 0.08881276784436189\n",
      "Average execution time FFT: 0.10073569300031981\n",
      "Average execution time simulation: 117.76417196188483\n",
      "Average execution time optimized DP: 0.26764913998598694\n"
     ]
    }
   ],
   "source": [
    "print('Average execution time DP: ' + str(np.mean(execution_times_dp)))\n",
    "print('Average execution time FFT: ' + str(np.mean(execution_times_fft)))\n",
    "print('Average execution time simulation: ' + str(np.mean(execution_times_simulation)))\n",
    "print('Average execution time optimized DP: ' + str(np.mean(execution_times_optimized_dp)))"
   ]
  },
  {
   "cell_type": "code",
   "execution_count": null,
   "metadata": {},
   "outputs": [],
   "source": []
  }
 ],
 "metadata": {
  "kernelspec": {
   "display_name": "venv",
   "language": "python",
   "name": "python3"
  },
  "language_info": {
   "codemirror_mode": {
    "name": "ipython",
    "version": 3
   },
   "file_extension": ".py",
   "mimetype": "text/x-python",
   "name": "python",
   "nbconvert_exporter": "python",
   "pygments_lexer": "ipython3",
   "version": "3.10.12"
  }
 },
 "nbformat": 4,
 "nbformat_minor": 2
}
