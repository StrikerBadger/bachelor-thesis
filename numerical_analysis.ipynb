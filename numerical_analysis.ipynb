{
 "cells": [
  {
   "cell_type": "markdown",
   "metadata": {},
   "source": [
    "# Numerical Analysis\n",
    "In this interactive Notebook both the simulation and the deterministic algorithms are assessed on their numerical precision."
   ]
  },
  {
   "cell_type": "code",
   "execution_count": 4,
   "metadata": {},
   "outputs": [],
   "source": [
    "# Libraries used in the interactive Notebook\n",
    "import pandas as pd\n",
    "import numpy as np\n",
    "from matplotlib import pyplot as plt\n",
    "import random\n",
    "from tqdm import tqdm"
   ]
  },
  {
   "cell_type": "code",
   "execution_count": 5,
   "metadata": {},
   "outputs": [],
   "source": [
    "# These are the algorithms, which we are assessing\n",
    "def simulation(p_is, n):\n",
    "    amnts = [0]*(len(p_is)+1)\n",
    "    for _ in range(n):\n",
    "        goal_amnt = sum([int(random.random() < p_i) for p_i in p_is])\n",
    "        amnts[goal_amnt] += 1\n",
    "    return [amnt/n for amnt in amnts]\n",
    "\n",
    "def dp(p_is):\n",
    "    n = len(p_is)\n",
    "    p_k = [1] + [0]*n\n",
    "    # Iterate over the dp table\n",
    "    for i in range(n+1):\n",
    "        for c in range(i, 0, -1):\n",
    "            inc = p_is[i-1]*p_k[c-1]\n",
    "            p_k[c-1] -= inc\n",
    "            p_k[c] += inc\n",
    "    return p_k\n",
    "\n",
    "from poibin.poibin import PoiBin\n",
    "\n",
    "def fft(p_is):\n",
    "    return PoiBin(p_is).get_pmf_xi()"
   ]
  },
  {
   "cell_type": "code",
   "execution_count": 7,
   "metadata": {},
   "outputs": [],
   "source": [
    "# Read the Possession xG values and group them by match id\n",
    "xg_df = pd.read_pickle('possession_xGs.pkl')"
   ]
  },
  {
   "cell_type": "markdown",
   "metadata": {},
   "source": [
    "To get "
   ]
  }
 ],
 "metadata": {
  "kernelspec": {
   "display_name": "venv",
   "language": "python",
   "name": "python3"
  },
  "language_info": {
   "codemirror_mode": {
    "name": "ipython",
    "version": 3
   },
   "file_extension": ".py",
   "mimetype": "text/x-python",
   "name": "python",
   "nbconvert_exporter": "python",
   "pygments_lexer": "ipython3",
   "version": "3.10.12"
  }
 },
 "nbformat": 4,
 "nbformat_minor": 2
}
