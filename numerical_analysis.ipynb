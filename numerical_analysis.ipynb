{
 "cells": [
  {
   "cell_type": "markdown",
   "metadata": {},
   "source": [
    "# Numerical Analysis\n",
    "In this interactive Notebook both the simulation and the deterministic algorithms are assessed on their numerical precision."
   ]
  },
  {
   "cell_type": "code",
   "execution_count": 200,
   "metadata": {},
   "outputs": [],
   "source": [
    "# Libraries used in the interactive Notebook\n",
    "import pandas as pd\n",
    "import numpy as np\n",
    "from matplotlib import pyplot as plt\n",
    "import random\n",
    "from tqdm import tqdm"
   ]
  },
  {
   "cell_type": "code",
   "execution_count": 201,
   "metadata": {},
   "outputs": [],
   "source": [
    "# These are the algorithms, which we are assessing\n",
    "def simulation(p_is, n):\n",
    "    amnts = [0]*(len(p_is)+1)\n",
    "    for _ in range(n):\n",
    "        goal_amnt = sum([int(random.random() < p_i) for p_i in p_is])\n",
    "        amnts[goal_amnt] += 1\n",
    "    return [amnt/n for amnt in amnts]\n",
    "\n",
    "def dp(p_is):\n",
    "    n = len(p_is)\n",
    "    p_k = [1] + [0]*n\n",
    "    # Iterate over the dp table\n",
    "    for i in range(n+1):\n",
    "        for c in range(i, 0, -1):\n",
    "            inc = p_is[i-1]*p_k[c-1]\n",
    "            p_k[c-1] -= inc\n",
    "            p_k[c] += inc\n",
    "    return p_k\n",
    "\n",
    "from poibin.poibin import PoiBin\n",
    "\n",
    "def fft(p_is):\n",
    "    return PoiBin(p_is).get_pmf_xi()"
   ]
  },
  {
   "cell_type": "code",
   "execution_count": 202,
   "metadata": {},
   "outputs": [],
   "source": [
    "# Non-float code\n",
    "def collapse(num):\n",
    "    num_str = str(num[0])\n",
    "    exponent_shift = 0\n",
    "    for c in reversed(num_str):\n",
    "        if c != '0':\n",
    "            break\n",
    "        exponent_shift += 1\n",
    "    return (int(num_str[:len(num_str)-exponent_shift]), num[1]+exponent_shift)\n",
    "\n",
    "def floatstring_to_tf(s):\n",
    "    # Get decimal point index\n",
    "    point_index = s.find('.')\n",
    "    decimals_string = '0'\n",
    "    exponent = 0\n",
    "    for c in s[point_index+1:]:\n",
    "        decimals_string += c\n",
    "        exponent -= 1\n",
    "    return (int(s[:point_index]+decimals_string), exponent)\n",
    "\n",
    "def ratio_to_tf(r):\n",
    "    return collapse(r[0]*r[1], 0)\n",
    "\n",
    "def scaled_minus(a, b):\n",
    "    if a[1] == b[1]:\n",
    "        res = collapse((a[0]-b[0], a[1]))\n",
    "        return res\n",
    "    elif a[1] > b[1]:\n",
    "        exp_shift = a[1]-b[1]\n",
    "        res = collapse((int(str(a[0]) + '0'*exp_shift) - b[0], b[1]))\n",
    "        return res\n",
    "    else:\n",
    "        print('is_here')\n",
    "        exp_shift = b[1]-a[1]\n",
    "        res = collapse((a[0] - int(str(b[0]) + '0'*exp_shift), a[1]))\n",
    "        return res\n",
    "\n",
    "def scaled_plus(a, b):\n",
    "    if a[1] == b[1]:\n",
    "        return collapse((a[0]+b[0], a[1]))\n",
    "    elif a[1] > b[1]:\n",
    "        exp_shift = a[1]-b[1]\n",
    "        return collapse((int(str(a[0]) + '0'*exp_shift) + b[0], b[1]))\n",
    "    else:\n",
    "        exp_shift = b[1]-a[1]\n",
    "        return collapse((a[0] + int(str(b[0]) + '0'*exp_shift), a[1]))\n",
    "    \n",
    "def scaled_mult(a, b):\n",
    "    return collapse((a[0]*b[0], a[1]+b[1]))\n",
    "\n",
    "def dp_scaled(p_is):\n",
    "    n = len(p_is)\n",
    "    p_k = [(1, 0)] + [(0, 0)]*n\n",
    "    # Iterate over the dp table\n",
    "    for i in range(n+1):\n",
    "        for c in range(i, 0, -1):\n",
    "            inc = scaled_mult(p_is[i-1], p_k[c-1])\n",
    "            p_k[c-1] = scaled_minus(p_k[c-1], inc)\n",
    "            p_k[c] = scaled_plus(p_k[c], inc)\n",
    "    return p_k"
   ]
  },
  {
   "cell_type": "code",
   "execution_count": 203,
   "metadata": {},
   "outputs": [],
   "source": [
    "# Read the Possession xG values and group them by match id\n",
    "xg_df = pd.read_pickle('possession_xGs.pkl')"
   ]
  },
  {
   "cell_type": "code",
   "execution_count": 204,
   "metadata": {},
   "outputs": [],
   "source": [
    "samples = [float(str(x)) for x in xg_df.sample(11, replace=True)['possession_xg'].to_list()]\n",
    "samples_transformed = [floatstring_to_tf(str(x)) for x in samples]"
   ]
  },
  {
   "cell_type": "code",
   "execution_count": 205,
   "metadata": {},
   "outputs": [
    {
     "name": "stdout",
     "output_type": "stream",
     "text": [
      "[0.02407022, 0.041848164, 0.05304006, 0.03223021, 0.13323733, 0.02326097, 0.48887327, 0.17002904, 0.062339082, 0.04361772, 0.053362656]\n",
      "[0.26126893496486403, 0.4350055384591034, 0.23183811544101834, 0.061385056146680134, 0.009505928700490992, 0.0009332624506570753, 6.046752973846429e-05, 2.6198662337466827e-06, 7.506373907545177e-08, 1.3632206856572804e-09, 1.41896270331774e-11, 6.436615222695281e-14]\n",
      "[(2612689349648640212859722334403123933460034110104255539499615766557782690155748782814756864, -91), (4350055384591034597037323892946382705336272008225086488534677321496215218298912125037674496, -91), (231838115441018349605380429735115713423524234067100610576169904555304951988469569481162752, -90), (61385056146680135782285492614591948589785708244777519986120998952272562188814395556511744, -90), (9505928700490993097158752738384527068512445628478491483707290029429836177925000886976512, -90), (9332624506570752546610520767833856508433041453265274939168500946635689635296899582328832, -91), (604675297384642937260055140109593881967686789890261023449768441208070334456188417671168, -91), (2619866233746682631166965138422006540121672057360808345264874546500971413623113023488, -90), (75063739075451767804445204142947207907853355872154241089006413823520070084443488256, -90), (1363220685657280319926977540231473039384064518089710335798908068014051006518837248, -90), (141896270331774004278359606713256214154269312045461895644608444551749250962325504, -91), (643661522269528210067361429602370774889392974677914744792458416399953185243136, -91)]\n"
     ]
    }
   ],
   "source": [
    "# Sampled values rounded and with exponent\n",
    "print(samples)\n",
    "poibin_scaled = dp_scaled(samples_transformed)\n",
    "print(dp(samples))\n",
    "print(poibin_scaled)\n"
   ]
  },
  {
   "cell_type": "markdown",
   "metadata": {},
   "source": [
    "To"
   ]
  }
 ],
 "metadata": {
  "kernelspec": {
   "display_name": "venv",
   "language": "python",
   "name": "python3"
  },
  "language_info": {
   "codemirror_mode": {
    "name": "ipython",
    "version": 3
   },
   "file_extension": ".py",
   "mimetype": "text/x-python",
   "name": "python",
   "nbconvert_exporter": "python",
   "pygments_lexer": "ipython3",
   "version": "3.10.12"
  }
 },
 "nbformat": 4,
 "nbformat_minor": 2
}
