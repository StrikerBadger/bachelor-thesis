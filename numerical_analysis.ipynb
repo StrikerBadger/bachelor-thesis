{
 "cells": [
  {
   "cell_type": "markdown",
   "metadata": {},
   "source": [
    "# Numerical Analysis\n",
    "In this interactive Notebook both the simulation and the deterministic algorithms are assessed on their numerical precision."
   ]
  },
  {
   "cell_type": "code",
   "execution_count": 4,
   "metadata": {},
   "outputs": [],
   "source": [
    "# Libraries used in the interactive Notebook\n",
    "import pandas as pd\n",
    "import numpy as np\n",
    "from matplotlib import pyplot as plt\n",
    "import random\n",
    "from tqdm import tqdm"
   ]
  },
  {
   "cell_type": "code",
   "execution_count": 5,
   "metadata": {},
   "outputs": [],
   "source": [
    "# These are the algorithms, which we are assessing\n",
    "def simulation(p_is, n):\n",
    "    amnts = [0]*(len(p_is)+1)\n",
    "    for _ in range(n):\n",
    "        goal_amnt = sum([int(random.random() < p_i) for p_i in p_is])\n",
    "        amnts[goal_amnt] += 1\n",
    "    return [amnt/n for amnt in amnts]\n",
    "\n",
    "def dp(p_is):\n",
    "    n = len(p_is)\n",
    "    p_k = [1] + [0]*n\n",
    "    # Iterate over the dp table\n",
    "    for i in range(n+1):\n",
    "        for c in range(i, 0, -1):\n",
    "            inc = p_is[i-1]*p_k[c-1]\n",
    "            p_k[c-1] -= inc\n",
    "            p_k[c] += inc\n",
    "    return p_k\n",
    "\n",
    "from poibin.poibin import PoiBin\n",
    "\n",
    "def fft(p_is):\n",
    "    return PoiBin(p_is).get_pmf_xi()"
   ]
  },
  {
   "cell_type": "code",
   "execution_count": 7,
   "metadata": {},
   "outputs": [],
   "source": [
    "# Read the Possession xG values and group them by match id\n",
    "xg_df = pd.read_pickle('possession_xGs.pkl')\n",
    "xg_counts = xg_df.groupby('match_id').apply(lambda df: df.groupby('team_id')['team_id'].count()).sort_values()\n",
    "xg_counts = xg_counts.to_frame()\n",
    "xg_counts.columns = ['xg_count']\n",
    "xg_counts = xg_counts.reset_index()"
   ]
  },
  {
   "cell_type": "code",
   "execution_count": 8,
   "metadata": {},
   "outputs": [
    {
     "name": "stderr",
     "output_type": "stream",
     "text": [
      "100%|██████████| 37/37 [00:00<00:00, 39.17it/s]\n"
     ]
    }
   ],
   "source": [
    "# Get the results for each algorithm \n",
    "results_dp = []\n",
    "results_fft = []\n",
    "results_simulation = []\n",
    "SIMULATION_RUNS = 10000\n",
    "# Lets look at some metrics of numerical precision for each unique number of Possession xGs per team and match in our dataset\n",
    "for count in tqdm(np.sort(xg_counts['xg_count'].unique())):\n",
    "    # Randomly choose a match with 'count' number of Possession xG\n",
    "    i_counts = xg_counts[xg_counts['xg_count'] == count]\n",
    "    match_id = i_counts.sample()['match_id'].iat[0]\n",
    "    team_id = i_counts[i_counts['match_id'] == match_id].sample()['team_id'].iat[0]\n",
    "    p_is = xg_df[(xg_df['match_id'] == match_id) & (xg_df['team_id'] == team_id)]['possession_xg'].to_list()\n",
    "    results_dp.append((count, dp(p_is)))\n",
    "    results_fft.append((count, fft(p_is)))\n",
    "    results_simulation.append((count, simulation(p_is, SIMULATION_RUNS)))"
   ]
  },
  {
   "cell_type": "markdown",
   "metadata": {},
   "source": [
    "One metric to assess is the sum of the probabilities. The entries of a discrete probablity distribution vector sum to 1. In this part we will analyze the sum of the distribution output vectors for each algorithm."
   ]
  },
  {
   "cell_type": "code",
   "execution_count": 9,
   "metadata": {},
   "outputs": [
    {
     "name": "stdout",
     "output_type": "stream",
     "text": [
      "Maximum absolute difference to 1 of the sum of the output vector: max_abs_diff_dp=4.440892098500626e-16, max_abs_diff_fft=9.992007221626409e-15, max_abs_diff_sim=2.220446049250313e-16\n"
     ]
    }
   ],
   "source": [
    "# First let's look at the maximum absolute differenc to one for each result of each algorithm\n",
    "max_abs_diff_dp = np.max(np.absolute(np.ones(len(results_dp)) - np.array([np.sum(t[1]) for t in results_dp])))\n",
    "max_abs_diff_fft = np.max(np.absolute(np.ones(len(results_fft)) - np.array([np.sum(t[1]) for t in results_fft])))\n",
    "max_abs_diff_sim = np.max(np.absolute(np.ones(len(results_simulation)) - np.array([np.sum(t[1]) for t in results_simulation])))\n",
    "print(f'Maximum absolute difference to 1 of the sum of the output vector: {max_abs_diff_dp=}, {max_abs_diff_fft=}, {max_abs_diff_sim=}')"
   ]
  },
  {
   "cell_type": "markdown",
   "metadata": {},
   "source": [
    "All the algorithms show no relevant signs of inaccuracy when assessing the sum of their output probability vectors."
   ]
  },
  {
   "cell_type": "code",
   "execution_count": null,
   "metadata": {},
   "outputs": [],
   "source": []
  }
 ],
 "metadata": {
  "kernelspec": {
   "display_name": "venv",
   "language": "python",
   "name": "python3"
  },
  "language_info": {
   "codemirror_mode": {
    "name": "ipython",
    "version": 3
   },
   "file_extension": ".py",
   "mimetype": "text/x-python",
   "name": "python",
   "nbconvert_exporter": "python",
   "pygments_lexer": "ipython3",
   "version": "3.10.12"
  }
 },
 "nbformat": 4,
 "nbformat_minor": 2
}
