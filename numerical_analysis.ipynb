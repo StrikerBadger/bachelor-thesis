{
 "cells": [
  {
   "cell_type": "markdown",
   "metadata": {},
   "source": [
    "# Numerical Analysis\n",
    "In this interactive Notebook both the simulation and the deterministic algorithms are assessed on their numerical precision."
   ]
  },
  {
   "cell_type": "code",
   "execution_count": 4,
   "metadata": {},
   "outputs": [],
   "source": [
    "# Libraries used in the interactive Notebook\n",
    "import pandas as pd\n",
    "import numpy as np\n",
    "from matplotlib import pyplot as plt\n",
    "import random\n",
    "from tqdm import tqdm"
   ]
  },
  {
   "cell_type": "code",
   "execution_count": 5,
   "metadata": {},
   "outputs": [],
   "source": [
    "# These are the algorithms, which we are assessing\n",
    "def simulation(p_is, n):\n",
    "    amnts = [0]*(len(p_is)+1)\n",
    "    for _ in range(n):\n",
    "        goal_amnt = sum([int(random.random() < p_i) for p_i in p_is])\n",
    "        amnts[goal_amnt] += 1\n",
    "    return [amnt/n for amnt in amnts]\n",
    "\n",
    "def dp(p_is):\n",
    "    n = len(p_is)\n",
    "    p_k = [1] + [0]*n\n",
    "    # Iterate over the dp table\n",
    "    for i in range(n+1):\n",
    "        for c in range(i, 0, -1):\n",
    "            inc = p_is[i-1]*p_k[c-1]\n",
    "            p_k[c-1] -= inc\n",
    "            p_k[c] += inc\n",
    "    return p_k\n",
    "\n",
    "from poibin.poibin import PoiBin\n",
    "\n",
    "def fft(p_is):\n",
    "    return PoiBin(p_is).get_pmf_xi()"
   ]
  },
  {
   "cell_type": "code",
   "execution_count": 19,
   "metadata": {},
   "outputs": [],
   "source": [
    "# Read the Possession xG values and group them by match id\n",
    "xg_df = pd.read_pickle('possession_xGs.pkl')"
   ]
  },
  {
   "cell_type": "code",
   "execution_count": null,
   "metadata": {},
   "outputs": [],
   "source": [
    "POWS_OF_TWO = [-6, -5, -5, -5, -4, -4, -3, -3, -3, -3, -3]\n",
    "# Choose k elements out of a list with no duplicates\n",
    "def choose_k_subset(some_list, k):\n",
    "    assert len(some_list) >= k, 'Can\\'t choose more elements than there are in the list'\n",
    "    if k == 0:\n",
    "        return []\n",
    "    elif k == 1:\n",
    "        return [[el] for el in some_list]\n",
    "    else:\n",
    "        subsets = []\n",
    "        for previous_subset in choose_k_subset(some_list, k-1):\n",
    "            for el in some_list:\n",
    "                if el in previous_subset:\n",
    "                    continue\n",
    "                new_subset = previous_subset.copy()\n",
    "                new_subset.append(el)\n",
    "                new_subset = sorted(new_subset)\n",
    "                if new_subset not in subsets:\n",
    "                    subsets.append(new_subset)\n",
    "        return subsets\n",
    "\n",
    "def complement(a, original):\n",
    "    res = []\n",
    "    for o in original:\n",
    "        if o not in a:\n",
    "            res.append(o)\n",
    "    return res\n",
    "indeces = list(range(len(POWS_OF_TWO)))\n",
    "print('\\n'.join([str(choose_k_subset(indeces, i)) for i in indeces]))"
   ]
  },
  {
   "cell_type": "markdown",
   "metadata": {},
   "source": [
    "To get "
   ]
  }
 ],
 "metadata": {
  "kernelspec": {
   "display_name": "venv",
   "language": "python",
   "name": "python3"
  },
  "language_info": {
   "codemirror_mode": {
    "name": "ipython",
    "version": 3
   },
   "file_extension": ".py",
   "mimetype": "text/x-python",
   "name": "python",
   "nbconvert_exporter": "python",
   "pygments_lexer": "ipython3",
   "version": "3.10.12"
  }
 },
 "nbformat": 4,
 "nbformat_minor": 2
}
