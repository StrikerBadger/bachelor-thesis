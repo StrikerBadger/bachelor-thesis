{
 "cells": [
  {
   "cell_type": "code",
   "execution_count": 8,
   "metadata": {},
   "outputs": [],
   "source": [
    "from statsbombpy import sb\n",
    "import pandas as pd\n",
    "from tqdm import tqdm\n",
    "tqdm.pandas() # tqdm pandas mode"
   ]
  },
  {
   "cell_type": "code",
   "execution_count": 9,
   "metadata": {},
   "outputs": [
    {
     "name": "stderr",
     "output_type": "stream",
     "text": [
      "/home/aaron/Projects/ETH/bachelor-thesis/venv/lib/python3.10/site-packages/statsbombpy/api_client.py:21: NoAuthWarning: credentials were not supplied. open data access only\n",
      "  warnings.warn(\n"
     ]
    },
    {
     "data": {
      "text/plain": [
       "array(['1. Bundesliga', 'Champions League', 'Copa del Rey',\n",
       "       \"FA Women's Super League\", 'FIFA U20 World Cup', 'FIFA World Cup',\n",
       "       'Indian Super league', 'La Liga', 'Liga Profesional', 'Ligue 1',\n",
       "       'North American League', 'NWSL', 'Premier League', 'Serie A',\n",
       "       'UEFA Euro', 'UEFA Europa League', \"UEFA Women's Euro\",\n",
       "       \"Women's World Cup\"], dtype=object)"
      ]
     },
     "execution_count": 9,
     "metadata": {},
     "output_type": "execute_result"
    }
   ],
   "source": [
    "competition_names = sb.competitions()['competition_name'].unique()\n",
    "competition_names"
   ]
  },
  {
   "cell_type": "code",
   "execution_count": 10,
   "metadata": {},
   "outputs": [],
   "source": [
    "# Seasons on understat\n",
    "understat_seasons = {\n",
    "    'Premier League': [f'{y1}/{y2}' for y1, y2 in zip(range(2014, 2024), range(2015, 2025))],\n",
    "    'La Liga': [f'{y1}/{y2}' for y1, y2 in zip(range(2014, 2024), range(2015, 2025))],\n",
    "    '1. Bundesliga': [f'{y1}/{y2}' for y1, y2 in zip(range(2014, 2024), range(2015, 2025))],\n",
    "    'Serie A': [f'{y1}/{y2}' for y1, y2 in zip(range(2014, 2024), range(2015, 2025))],\n",
    "    'Ligue 1': [f'{y1}/{y2}' for y1, y2 in zip(range(2014, 2024), range(2015, 2025))],\n",
    "}"
   ]
  },
  {
   "cell_type": "code",
   "execution_count": null,
   "metadata": {},
   "outputs": [],
   "source": []
  }
 ],
 "metadata": {
  "kernelspec": {
   "display_name": "venv",
   "language": "python",
   "name": "python3"
  },
  "language_info": {
   "codemirror_mode": {
    "name": "ipython",
    "version": 3
   },
   "file_extension": ".py",
   "mimetype": "text/x-python",
   "name": "python",
   "nbconvert_exporter": "python",
   "pygments_lexer": "ipython3",
   "version": "3.10.12"
  }
 },
 "nbformat": 4,
 "nbformat_minor": 2
}
