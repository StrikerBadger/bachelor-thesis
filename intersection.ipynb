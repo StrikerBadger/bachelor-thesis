{
 "cells": [
  {
   "cell_type": "code",
   "execution_count": 157,
   "metadata": {},
   "outputs": [],
   "source": [
    "from statsbombpy import sb\n",
    "import pandas as pd\n",
    "from matplotlib import pyplot as plt\n",
    "import os\n",
    "from tqdm import tqdm\n",
    "import math\n",
    "tqdm.pandas() # tqdm pandas mode\n",
    "import warnings\n",
    "warnings.filterwarnings('ignore', category=sb.api_client.NoAuthWarning)"
   ]
  },
  {
   "cell_type": "code",
   "execution_count": 158,
   "metadata": {},
   "outputs": [],
   "source": [
    "seasons = {\n",
    "    'Premier League': ['2015/2016'],\n",
    "    # 'La Liga': ['2014/2015', '2015/2016', '2016/2017', '2017/2018', '2018/2019', '2019/2020', '2020/2021'],\n",
    "    '1. Bundesliga': ['2015/2016'],\n",
    "    'Serie A': ['2015/2016'],\n",
    "    'Ligue 1': ['2015/2016'],\n",
    "}"
   ]
  },
  {
   "cell_type": "code",
   "execution_count": 159,
   "metadata": {},
   "outputs": [],
   "source": [
    "# competitions_df = sb.competitions()\n",
    "# selection = pd.Series([False] * len(competitions_df))\n",
    "# for competition_name, season in seasons.items():\n",
    "#     selection |= (competitions_df['competition_name'] == competition_name) & competitions_df['season_name'].isin(season)\n",
    "# competitions_df = competitions_df[selection]\n",
    "# competitions_df"
   ]
  },
  {
   "cell_type": "markdown",
   "metadata": {
    "tags": []
   },
   "source": []
  },
  {
   "cell_type": "code",
   "execution_count": 160,
   "metadata": {},
   "outputs": [],
   "source": [
    "# for index, row in competitions_df.iterrows():\n",
    "#     to_save = sb.matches(competition_id=row['competition_id'], season_id=row['season_id'])\n",
    "#     file_path = f'dataset/intersection/statsbomb_matches_shots/matches_{row[\"competition_name\"]}_{row[\"season_id\"]}.csv'\n",
    "#     to_save.to_csv(file_path, index=False)\n",
    "#     print(f'Looking at {row[\"competition_name\"]} {row[\"season_name\"]}')\n",
    "#     file_path = f'dataset/intersection/statsbomb_matches_shots/shots_{row[\"competition_name\"]}_{row[\"season_id\"]}.csv'\n",
    "#     if os.path.exists(file_path):\n",
    "#         continue\n",
    "#     shots_dfs = []\n",
    "#     for match_id in tqdm(to_save['match_id']):\n",
    "#         shots_dfs.append(sb.events(match_id=match_id, split=True)['shots'])\n",
    "#     pd.concat(shots_dfs).reset_index(drop=True).to_csv(file_path, index=False)"
   ]
  },
  {
   "cell_type": "code",
   "execution_count": 163,
   "metadata": {},
   "outputs": [
    {
     "data": {
      "text/plain": [
       "<Figure size 640x480 with 0 Axes>"
      ]
     },
     "metadata": {},
     "output_type": "display_data"
    },
    {
     "data": {
      "text/plain": [
       "<Figure size 640x480 with 0 Axes>"
      ]
     },
     "metadata": {},
     "output_type": "display_data"
    },
    {
     "data": {
      "text/plain": [
       "<Figure size 640x480 with 0 Axes>"
      ]
     },
     "metadata": {},
     "output_type": "display_data"
    },
    {
     "data": {
      "text/plain": [
       "<Figure size 640x480 with 0 Axes>"
      ]
     },
     "metadata": {},
     "output_type": "display_data"
    },
    {
     "data": {
      "text/plain": [
       "<Figure size 640x480 with 0 Axes>"
      ]
     },
     "metadata": {},
     "output_type": "display_data"
    }
   ],
   "source": [
    "# Get understat formatting for competition names\n",
    "def statsbomb_to_understat_competition_name(comp_name):\n",
    "        if comp_name == 'Premier League':\n",
    "            return 'epl'\n",
    "        elif comp_name == '1. Bundesliga':\n",
    "            return 'bundesliga'\n",
    "        return competition_name.replace(' ', '_').lower()\n",
    "# # Get match shots of season statsbomb, understat pairs\n",
    "# def get_season_shots_statsbomb_understat(comp_name, season_name):\n",
    "#     statsbomb_competitions = sb.competitions()\n",
    "#     statsbomb_season_id = statsbomb_competitions[(statsbomb_competitions['competition_name'] == comp_name) & (statsbomb_competitions['season_name'] == season_name)]['season_id'].values[0]\n",
    "#     statsbomb_matches_df = pd.read_csv(f'dataset/intersection/statsbomb_matches_shots/matches_{comp_name}_{statsbomb_season_id}.csv')\n",
    "#     statsbomb_shots_df = pd.read_csv(f'dataset/intersection/statsbomb_matches_shots/shots_{comp_name}_{statsbomb_season_id}.csv')\n",
    "#     split_season_name = season_name.split('/')\n",
    "#     understat_season_name = split_season_name[0][2:] + '-' + split_season_name[1][2:]\n",
    "#     understat_competition_name = statsbomb_to_understat_competition_name(comp_name)\n",
    "#     understat_file_path = f'dataset/intersection/understat_matches_shots/shots_{understat_competition_name}_{understat_season_name}.csv'\n",
    "#     understat_df = pd.read_csv(understat_file_path)\n",
    "#     season_matches = []\n",
    "#     for index, row in statsbomb_matches_df.iterrows():\n",
    "#         match_date = row['match_date']\n",
    "#         understat_date = match_date\n",
    "#         def statsbomb_team_to_understat_team(teamname):\n",
    "#             split_name = teamname.split(' ')\n",
    "#             if split_name[0] == 'FC' or split_name[0] == 'AFC':\n",
    "#                 return split_name[1]\n",
    "#             else:\n",
    "#                 return split_name[0]\n",
    "#         understat_home_team = statsbomb_team_to_understat_team(row['home_team'])    \n",
    "#         curr_understat_df = understat_df[(understat_df['date'].str.contains(understat_date)) & (understat_df['h_team'].str.contains(understat_home_team)) | (understat_df['a_team'].str.contains(understat_home_team))].copy()\n",
    "#         curr_statsbomb_df = statsbomb_shots_df[statsbomb_shots_df['match_id'] == row['match_id']].copy()\n",
    "#         if len(curr_understat_df) == 0:\n",
    "#             print(understat_home_team, understat_date)\n",
    "#         season_matches.append((curr_statsbomb_df, curr_understat_df))\n",
    "#     return season_matches\n",
    "\n",
    "all_statsbomb = []\n",
    "all_understat = []\n",
    "for competition_name, season_list in seasons.items():\n",
    "    for season_name in season_list:\n",
    "        statsbomb_competitions = sb.competitions()\n",
    "        statsbomb_season_id = statsbomb_competitions[(statsbomb_competitions['competition_name'] == competition_name) & (statsbomb_competitions['season_name'] == season_name)]['season_id'].values[0]\n",
    "        statsbomb_season_shots_df = pd.read_csv(f'dataset/intersection/statsbomb_matches_shots/shots_{competition_name}_{statsbomb_season_id}.csv')\n",
    "        split_season_name = season_name.split('/')\n",
    "        understat_season_name = split_season_name[0][2:] + '-' + split_season_name[1][2:]\n",
    "        understat_season_shots_df = pd.read_csv(f'dataset/intersection/understat_matches_shots/shots_{statsbomb_to_understat_competition_name(competition_name)}_{understat_season_name}.csv')\n",
    "        all_statsbomb.append(statsbomb_season_shots_df)\n",
    "        all_understat.append(understat_season_shots_df)\n",
    "        fig, axs = plt.subplots(2, 1)\n",
    "        axs[0].hist(statsbomb_season_shots_df['shot_statsbomb_xg'], bins=math.ceil(math.sqrt(len(statsbomb_season_shots_df))))\n",
    "        axs[0].set_title(f'{competition_name} {season_name} Statsbomb\\n{len(statsbomb_season_shots_df)} shots')\n",
    "        # axs[0].xlabel('xG')\n",
    "        # axs[0].ylabel('Number of Shots')\n",
    "        axs[1].hist(understat_season_shots_df['xG'], bins=math.ceil(math.sqrt(len(understat_season_shots_df))))\n",
    "        # axs[1].xlabel('xG')\n",
    "        # axs[1].ylabel('Number of Shots')\n",
    "        axs[1].set_title(f'{competition_name} {season_name} Understat\\n{len(understat_season_shots_df)} shots')\n",
    "        fig.suptitle(f'{competition_name} {season_name} xG Distribution')\n",
    "        fig.savefig(f'graphs/{competition_name}_{season_name.replace(\"/\", \"-\")}_xg_distribution.png')\n",
    "        plt.clf()\n",
    "statsbomb_shots_df = pd.concat(all_statsbomb).reset_index(drop=True)\n",
    "understat_shots_df = pd.concat(all_understat).reset_index(drop=True)\n",
    "fig, (ax1, ax2) = plt.subplots(2)\n",
    "axs[0].hist(statsbomb_shots_df['shot_statsbomb_xg'], bins=math.ceil(math.sqrt(len(statsbomb_season_shots_df))))\n",
    "axs[0].set_title(f'Statsbomb\\n{len(statsbomb_season_shots_df)} shots')\n",
    "# axs[0].xlabel('xG')\n",
    "# axs[0].ylabel('Number of Shots')\n",
    "axs[1].hist(understat_shots_df['xG'], bins=math.ceil(math.sqrt(len(understat_season_shots_df))))\n",
    "# axs[1].xlabel('xG')\n",
    "# axs[1].ylabel('Number of Shots')\n",
    "axs[1].set_title(f'Understat\\n{len(understat_season_shots_df)} shots')\n",
    "fig.suptitle(f'xG Distribution of the Dataproviders')\n",
    "fig.savefig(f'graphs/xg_distribution.png')\n",
    "plt.clf()"
   ]
  },
  {
   "cell_type": "code",
   "execution_count": null,
   "metadata": {},
   "outputs": [],
   "source": []
  }
 ],
 "metadata": {
  "kernelspec": {
   "display_name": "venv",
   "language": "python",
   "name": "python3"
  },
  "language_info": {
   "codemirror_mode": {
    "name": "ipython",
    "version": 3
   },
   "file_extension": ".py",
   "mimetype": "text/x-python",
   "name": "python",
   "nbconvert_exporter": "python",
   "pygments_lexer": "ipython3",
   "version": "3.10.12"
  }
 },
 "nbformat": 4,
 "nbformat_minor": 2
}
