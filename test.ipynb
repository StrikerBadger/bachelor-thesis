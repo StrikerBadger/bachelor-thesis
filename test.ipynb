{
 "cells": [
  {
   "cell_type": "code",
   "execution_count": 1,
   "metadata": {},
   "outputs": [],
   "source": [
    "import algorithms\n",
    "import random\n",
    "import numpy as np"
   ]
  },
  {
   "cell_type": "code",
   "execution_count": null,
   "metadata": {},
   "outputs": [],
   "source": [
    "# Test the algorithm\n",
    "p_is = [random.random() for _ in range(25)]\n",
    "poibinc = algorithms.PoiBinCalculator(p_is)\n",
    "res_dp, exectime_dp = poibinc.dp_poibin_pdf()\n",
    "res_fft, exectime_fft = poibinc.fft_poibin_pdf()\n",
    "res_sim, exectime_sim = poibinc.sim_poibin_pdf()\n",
    "print('Results:')\n",
    "print('DP: ', res_dp)\n",
    "print('FFT: ', res_fft)\n",
    "print('SIM: ', res_sim)\n",
    "print('Execution times (ms):')\n",
    "print('DP: ', exectime_dp)\n",
    "print('FFT: ', exectime_fft)\n",
    "print('SIM: ', exectime_sim)\n",
    "print('Sum of the probabilities:')\n",
    "print('DP: ', np.sum(res_dp))\n",
    "print('FFT: ', np.sum(res_fft))\n",
    "print('SIM: ', np.sum(res_sim))"
   ]
  }
 ],
 "metadata": {
  "kernelspec": {
   "display_name": "venv",
   "language": "python",
   "name": "python3"
  },
  "language_info": {
   "codemirror_mode": {
    "name": "ipython",
    "version": 3
   },
   "file_extension": ".py",
   "mimetype": "text/x-python",
   "name": "python",
   "nbconvert_exporter": "python",
   "pygments_lexer": "ipython3",
   "version": "3.10.12"
  }
 },
 "nbformat": 4,
 "nbformat_minor": 2
}
