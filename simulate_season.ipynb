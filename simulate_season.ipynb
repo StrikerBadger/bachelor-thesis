{
 "cells": [
  {
   "cell_type": "markdown",
   "metadata": {},
   "source": [
    "# Simulating a season with the Algorithms\n",
    "In this interactive Notebook a whole soccer season is simulated using the algorithms which we are assessing."
   ]
  },
  {
   "cell_type": "code",
   "execution_count": 1,
   "metadata": {},
   "outputs": [],
   "source": [
    "# Import the libraries\n",
    "import pandas as pd\n",
    "from matplotlib import pyplot as plt\n",
    "import numpy as np"
   ]
  },
  {
   "cell_type": "code",
   "execution_count": 6,
   "metadata": {},
   "outputs": [],
   "source": [
    "# Read the file and sort the matches by date\n",
    "matches = pd.read_csv('dataset/intersection/statsbomb_matches_shots/matches_1. Bundesliga_27.csv')\n",
    "matches = matches.sort_values(by='match_date')\n",
    "# Read the file of the corresponding shots\n",
    "shots = pd.read_csv('dataset/intersection/statsbomb_matches_shots/shots_1. Bundesliga_27.csv')"
   ]
  },
  {
   "cell_type": "code",
   "execution_count": 7,
   "metadata": {},
   "outputs": [],
   "source": [
    "# Define a function which calculates the distribution of points for both teams for a match\n",
    "def get_point_distribution(xgs_1, xgs_2, poi_bin_algorithm):\n",
    "    # Get the Poisson-Binomial distribution for both teams\n",
    "    poi_bin_1 = poi_bin_algorithm(xgs_1)\n",
    "    poi_bin_2 = poi_bin_algorithm(xgs_2)\n",
    "    # Select the Poisson-Binomial distribution with more cases\n",
    "    if len(poi_bin_1) > len(poi_bin_2):\n",
    "        lead = poi_bin_1\n",
    "        follow = poi_bin_2\n",
    "    else:\n",
    "        lead = poi_bin_2\n",
    "        follow = poi_bin_1\n",
    "    # Calculate the distribution of points\n",
    "    points_prob_lead = {0: 0, 1: 0, 3: 0}\n",
    "    points_prob_follow = {0: 0, 1: 0, 3: 0}\n",
    "    for score_lead, prob_lead in enumerate(lead):\n",
    "        for score_follow, prob_follow in enumerate(follow):\n",
    "            if score_lead > score_follow:\n",
    "                points_prob_lead[3] += prob_lead * prob_follow\n",
    "            elif score_lead == score_follow:\n",
    "                points_prob_lead[1] += prob_lead * prob_follow\n",
    "                points_prob_follow[1] += prob_lead * prob_follow\n",
    "            else:\n",
    "                points_prob_follow[3] += prob_lead * prob_follow\n",
    "    # Return the result in orginal order again\n",
    "    if lead == poi_bin_1:\n",
    "        return points_prob_lead, points_prob_follow\n",
    "    else:\n",
    "        return points_prob_follow, points_prob_lead"
   ]
  },
  {
   "cell_type": "code",
   "execution_count": 8,
   "metadata": {},
   "outputs": [],
   "source": [
    "# Define the algorithms to calculate the Poisson-Binomial distribution\n",
    "\n",
    "def dp(p_is):\n",
    "    # Initialize the dp table\n",
    "    n = len(p_is)\n",
    "    p_k = [1] + [0]*n\n",
    "    # Iterate over the dp table\n",
    "    for i in range(n+1):\n",
    "        for c in range(i, 0, -1):\n",
    "            inc = p_is[i-1]*p_k[c-1]\n",
    "            p_k[c-1] -= inc\n",
    "            p_k[c] += inc\n",
    "    return p_k\n",
    "\n",
    "# Dependency for the FFT algorithm\n",
    "from poibin.poibin import PoiBin\n",
    "\n",
    "def fft(p_is):\n",
    "    # Call the FFT algorithm\n",
    "    return PoiBin(p_is).get_pmf_xi()\n",
    "\n",
    "def simulation(p_is, n=10000):\n",
    "    # Distribution to be built\n",
    "    dist = np.zeros(len(p_is)+1)\n",
    "    p_is = np.array(p_is)\n",
    "    # Simulate the distribution for n times\n",
    "    for _ in range(n):\n",
    "        # Samples from the Uniform distribution between 0 and 1\n",
    "        samples = np.random.rand(len(p_is))\n",
    "        # Add result to the corresponding bin\n",
    "        dist[(p_is - samples > 0).sum()] += 1\n",
    "    return dist/n"
   ]
  },
  {
   "cell_type": "code",
   "execution_count": null,
   "metadata": {},
   "outputs": [],
   "source": []
  }
 ],
 "metadata": {
  "kernelspec": {
   "display_name": "venv",
   "language": "python",
   "name": "python3"
  },
  "language_info": {
   "codemirror_mode": {
    "name": "ipython",
    "version": 3
   },
   "file_extension": ".py",
   "mimetype": "text/x-python",
   "name": "python",
   "nbconvert_exporter": "python",
   "pygments_lexer": "ipython3",
   "version": "3.10.12"
  }
 },
 "nbformat": 4,
 "nbformat_minor": 2
}
