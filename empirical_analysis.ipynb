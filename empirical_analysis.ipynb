{
 "cells": [
  {
   "cell_type": "markdown",
   "metadata": {},
   "source": [
    "# Empirical Analysis\n",
    "In this python notebook we are going to:\n",
    "1. Get the Data from the Statsbomb Open Data API and save it with timestamp\n",
    "2. Run an empirical analysis on the data\n",
    "3. Transform the data if needed"
   ]
  },
  {
   "cell_type": "markdown",
   "metadata": {},
   "source": [
    "#### 1. Get the data from the Statsbomb Open Data API and saving it"
   ]
  },
  {
   "cell_type": "code",
   "execution_count": 1,
   "metadata": {},
   "outputs": [],
   "source": [
    "# Import all the libraries used to get the data\n",
    "from statsbombpy import sb\n",
    "import pandas as pd\n",
    "import os\n",
    "from tqdm import tqdm\n",
    "from datetime import datetime\n",
    "# We don't have an API-key, so we will ignore that exact warning\n",
    "import warnings\n",
    "warnings.filterwarnings('ignore', category=sb.api_client.NoAuthWarning)"
   ]
  },
  {
   "cell_type": "code",
   "execution_count": 2,
   "metadata": {},
   "outputs": [
    {
     "name": "stderr",
     "output_type": "stream",
     "text": [
      "100%|██████████| 306/306 [00:00<00:00, 265726.09it/s]\n",
      "100%|██████████| 52/52 [00:37<00:00,  1.40it/s]\n",
      "100%|██████████| 1/1 [00:00<00:00,  1.67it/s]]\n",
      "100%|██████████| 1/1 [00:00<00:00,  1.38it/s]]\n",
      "100%|██████████| 1/1 [00:00<00:00,  1.41it/s]]\n",
      "100%|██████████| 1/1 [00:00<00:00,  1.20it/s]]\n",
      "100%|██████████| 1/1 [00:00<00:00,  1.34it/s]]\n",
      "100%|██████████| 1/1 [00:00<00:00,  1.11it/s]]\n",
      "100%|██████████| 1/1 [00:00<00:00,  1.71it/s]]\n",
      "100%|██████████| 1/1 [00:00<00:00,  1.30it/s]]\n",
      "100%|██████████| 1/1 [00:00<00:00,  1.26it/s]t]\n",
      "100%|██████████| 1/1 [00:00<00:00,  1.41it/s]t]\n",
      "100%|██████████| 1/1 [00:00<00:00,  1.41it/s]t]\n",
      "100%|██████████| 1/1 [00:00<00:00,  1.51it/s]t]\n",
      "100%|██████████| 1/1 [00:00<00:00,  1.19it/s]t]\n",
      "100%|██████████| 1/1 [00:00<00:00,  1.61it/s]t]\n",
      "100%|██████████| 1/1 [00:00<00:00,  1.50it/s]t]\n",
      "100%|██████████| 1/1 [00:00<00:00,  1.44it/s]t]\n",
      "100%|██████████| 1/1 [00:00<00:00,  1.43it/s]t]\n",
      "100%|██████████| 1/1 [00:00<00:00,  1.44it/s]t]\n",
      "100%|██████████| 1/1 [00:00<00:00,  1.51it/s]t]\n",
      "100%|██████████| 1/1 [00:00<00:00,  1.69it/s]t]\n",
      "100%|██████████| 1/1 [00:00<00:00,  1.66it/s]s]\n",
      "100%|██████████| 131/131 [01:26<00:00,  1.52it/s]\n",
      "100%|██████████| 87/87 [00:56<00:00,  1.53it/s]\n",
      "100%|██████████| 108/108 [01:10<00:00,  1.53it/s]\n",
      "100%|██████████| 1/1 [00:00<00:00,  1.19it/s]t]\n",
      "100%|██████████| 64/64 [00:43<00:00,  1.47it/s]\n",
      "100%|██████████| 64/64 [00:42<00:00,  1.50it/s]\n",
      "100%|██████████| 1/1 [00:00<00:00,  1.48it/s]t]\n",
      "100%|██████████| 3/3 [00:01<00:00,  1.58it/s]t]\n",
      "100%|██████████| 6/6 [00:04<00:00,  1.47it/s]t]\n",
      "100%|██████████| 6/6 [00:04<00:00,  1.41it/s]t]\n",
      "100%|██████████| 1/1 [00:00<00:00,  1.39it/s]t]\n",
      "100%|██████████| 2/2 [00:01<00:00,  1.44it/s]t]\n",
      "100%|██████████| 115/115 [01:12<00:00,  1.59it/s]\n",
      "100%|██████████| 35/35 [00:25<00:00,  1.40it/s]\n",
      "100%|██████████| 33/33 [00:23<00:00,  1.39it/s]\n",
      "100%|██████████| 34/34 [00:24<00:00,  1.39it/s]\n",
      "100%|██████████| 36/36 [00:26<00:00,  1.38it/s]\n",
      "100%|██████████| 34/34 [00:22<00:00,  1.50it/s]\n",
      "100%|██████████| 380/380 [04:11<00:00,  1.51it/s]\n",
      "100%|██████████| 38/38 [00:27<00:00,  1.39it/s]\n",
      "100%|██████████| 31/31 [00:21<00:00,  1.43it/s]\n",
      "100%|██████████| 32/32 [00:23<00:00,  1.36it/s]\n",
      "100%|██████████| 37/37 [00:25<00:00,  1.42it/s]\n",
      "100%|██████████| 33/33 [00:23<00:00,  1.43it/s]\n",
      "100%|██████████| 35/35 [00:24<00:00,  1.43it/s]\n",
      "100%|██████████| 31/31 [00:20<00:00,  1.50it/s]\n",
      "100%|██████████| 28/28 [00:18<00:00,  1.49it/s]\n",
      "100%|██████████| 26/26 [00:18<00:00,  1.43it/s]\n",
      "100%|██████████| 17/17 [00:11<00:00,  1.44it/s]\n",
      "100%|██████████| 7/7 [00:04<00:00,  1.57it/s]t]\n",
      "100%|██████████| 1/1 [00:00<00:00,  1.51it/s]t]\n",
      "100%|██████████| 1/1 [00:00<00:00,  1.41it/s]t]\n",
      "100%|██████████| 1/1 [00:00<00:00,  1.40it/s]t]\n",
      "100%|██████████| 32/32 [00:23<00:00,  1.36it/s]\n",
      "100%|██████████| 26/26 [00:18<00:00,  1.39it/s]\n",
      "100%|██████████| 377/377 [04:18<00:00,  1.46it/s]\n",
      "100%|██████████| 6/6 [00:04<00:00,  1.42it/s]t]\n",
      "100%|██████████| 1/1 [00:00<00:00,  1.52it/s]t]\n",
      "100%|██████████| 36/36 [00:23<00:00,  1.51it/s]\n",
      "100%|██████████| 380/380 [04:13<00:00,  1.50it/s]\n",
      "100%|██████████| 38/38 [00:26<00:00,  1.44it/s]]\n",
      "100%|██████████| 380/380 [04:15<00:00,  1.49it/s]\n",
      "100%|██████████| 1/1 [00:00<00:00,  1.90it/s]it]\n",
      "100%|██████████| 51/51 [00:34<00:00,  1.49it/s] \n",
      "100%|██████████| 3/3 [00:02<00:00,  1.47it/s]t]\n",
      "100%|██████████| 31/31 [00:20<00:00,  1.48it/s]\n",
      "100%|██████████| 64/64 [00:44<00:00,  1.45it/s]\n",
      "100%|██████████| 52/52 [00:34<00:00,  1.50it/s]\n",
      "100%|██████████| 71/71 [34:18<00:00, 28.99s/it]\n"
     ]
    }
   ],
   "source": [
    "# Since we want as much data as possible, we will first query for all available match_ids\n",
    "all_competition_season_ids = sb.competitions()[['competition_id', 'season_id']].apply(lambda row: (row['competition_id'], row['season_id']), axis='columns')\n",
    "# For every competition and each season download the match meta-data\n",
    "if not os.path.exists('name_to_id_mapping.csv'): \n",
    "    name_to_competition_id_mapping = pd.DataFrame({ 'competition_name': [],\n",
    "                                                    'season_name': [],\n",
    "                                                    'competition_id': [],\n",
    "                                                    'season_id': [],\n",
    "                                                    'time_downloaded': []})\n",
    "else:\n",
    "    name_to_competition_id_mapping = pd.read_csv('name_to_id_mapping.csv')\n",
    "# We only need to look at the subset of the columns for each match\n",
    "for competition_id, season_id in tqdm(all_competition_season_ids):\n",
    "    matches = sb.matches(competition_id=competition_id, season_id=season_id)\n",
    "    directory_name = f'statsbomb_data/{competition_id}_{season_id}'\n",
    "    # This makes it easier for humans to look at the data later\n",
    "    if not os.path.exists(directory_name):\n",
    "        os.mkdir(directory_name)\n",
    "    # Download the events for each match\n",
    "    for match_id in tqdm(sb.matches(competition_id=competition_id, season_id=season_id)['match_id'].unique()):\n",
    "        # If the file already exists, we skip it\n",
    "        if os.path.exists(f'{directory_name}/{match_id}.pkl'):\n",
    "            continue\n",
    "        sb.events(match_id=match_id, split=True)['shots'].to_pickle(f'{directory_name}/{match_id}.pkl')\n",
    "    name_to_competition_id_mapping.loc[len(name_to_competition_id_mapping)] = [matches['competition'][0], matches['season'][0], competition_id,season_id, str(datetime.now())]\n",
    "    name_to_competition_id_mapping.to_csv('name_to_id_mapping.csv')"
   ]
  },
  {
   "cell_type": "code",
   "execution_count": null,
   "metadata": {},
   "outputs": [],
   "source": []
  }
 ],
 "metadata": {
  "kernelspec": {
   "display_name": "venv",
   "language": "python",
   "name": "python3"
  },
  "language_info": {
   "codemirror_mode": {
    "name": "ipython",
    "version": 3
   },
   "file_extension": ".py",
   "mimetype": "text/x-python",
   "name": "python",
   "nbconvert_exporter": "python",
   "pygments_lexer": "ipython3",
   "version": "3.10.12"
  }
 },
 "nbformat": 4,
 "nbformat_minor": 2
}
